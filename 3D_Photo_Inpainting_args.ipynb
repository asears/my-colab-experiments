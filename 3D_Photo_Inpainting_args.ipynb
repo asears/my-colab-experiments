{
  "nbformat": 4,
  "nbformat_minor": 0,
  "metadata": {
    "colab": {
      "name": "3D-Photo-Inpainting-args.ipynb",
      "provenance": [],
      "collapsed_sections": [],
      "include_colab_link": true
    },
    "kernelspec": {
      "name": "python3",
      "display_name": "Python 3"
    },
    "accelerator": "GPU"
  },
  "cells": [
    {
      "cell_type": "markdown",
      "metadata": {
        "id": "view-in-github",
        "colab_type": "text"
      },
      "source": [
        "<a href=\"https://colab.research.google.com/github/Norod/my-colab-experiments/blob/master/3D_Photo_Inpainting_args.ipynb\" target=\"_parent\"><img src=\"https://colab.research.google.com/assets/colab-badge.svg\" alt=\"Open In Colab\"/></a>"
      ]
    },
    {
      "cell_type": "markdown",
      "metadata": {
        "id": "IY-s3ZpHBeAU",
        "colab_type": "text"
      },
      "source": [
        "**[CVPR 2020] 3D Photography using Context-aware Layered Depth Inpainting**\n",
        "\n",
        "[project website](https://shihmengli.github.io/3D-Photo-Inpainting/)\n",
        "\n",
        "* Based on the improvements by @Buntworthy \n",
        "* Colab updates by @Norod78\n"
      ]
    },
    {
      "cell_type": "markdown",
      "metadata": {
        "id": "LPQ0EWxgvMIc",
        "colab_type": "text"
      },
      "source": [
        "- **Prepare environment**\n"
      ]
    },
    {
      "cell_type": "code",
      "metadata": {
        "id": "5o-EIMeaghU0",
        "colab_type": "code",
        "outputId": "629a2bb9-e57a-4f8d-97e1-bd9ba8d52459",
        "colab": {
          "base_uri": "https://localhost:8080/",
          "height": 1000
        }
      },
      "source": [
        "\n",
        "!pip3 install torch==1.4.0+cu100 torchvision==0.5.0+cu100 -f https://download.pytorch.org/whl/torch_stable.html\n",
        "!pip3 install opencv-python==4.2.0.32\n",
        "!pip3 install vispy==0.6.4\n",
        "!pip3 install moviepy==1.0.2\n",
        "!pip3 install transforms3d==0.3.1\n",
        "!pip3 install networkx==2.3"
      ],
      "execution_count": 1,
      "outputs": [
        {
          "output_type": "stream",
          "text": [
            "Looking in links: https://download.pytorch.org/whl/torch_stable.html\n",
            "Collecting torch==1.4.0+cu100\n",
            "\u001b[?25l  Downloading https://download.pytorch.org/whl/cu100/torch-1.4.0%2Bcu100-cp36-cp36m-linux_x86_64.whl (723.9MB)\n",
            "\u001b[K     |████████████████████████████████| 723.9MB 24kB/s \n",
            "\u001b[?25hCollecting torchvision==0.5.0+cu100\n",
            "\u001b[?25l  Downloading https://download.pytorch.org/whl/cu100/torchvision-0.5.0%2Bcu100-cp36-cp36m-linux_x86_64.whl (4.0MB)\n",
            "\u001b[K     |████████████████████████████████| 4.1MB 73.7MB/s \n",
            "\u001b[?25hRequirement already satisfied: six in /usr/local/lib/python3.6/dist-packages (from torchvision==0.5.0+cu100) (1.12.0)\n",
            "Requirement already satisfied: numpy in /usr/local/lib/python3.6/dist-packages (from torchvision==0.5.0+cu100) (1.18.4)\n",
            "Requirement already satisfied: pillow>=4.1.1 in /usr/local/lib/python3.6/dist-packages (from torchvision==0.5.0+cu100) (7.0.0)\n",
            "Installing collected packages: torch, torchvision\n",
            "  Found existing installation: torch 1.5.0+cu101\n",
            "    Uninstalling torch-1.5.0+cu101:\n",
            "      Successfully uninstalled torch-1.5.0+cu101\n",
            "  Found existing installation: torchvision 0.6.0+cu101\n",
            "    Uninstalling torchvision-0.6.0+cu101:\n",
            "      Successfully uninstalled torchvision-0.6.0+cu101\n",
            "Successfully installed torch-1.4.0+cu100 torchvision-0.5.0+cu100\n",
            "Collecting opencv-python==4.2.0.32\n",
            "\u001b[?25l  Downloading https://files.pythonhosted.org/packages/68/c5/09a1b82f940805c2cee30c3c42786651edcfd0710a0283eb09c6bc959340/opencv_python-4.2.0.32-cp36-cp36m-manylinux1_x86_64.whl (28.2MB)\n",
            "\u001b[K     |████████████████████████████████| 28.2MB 90kB/s \n",
            "\u001b[?25hRequirement already satisfied: numpy>=1.11.3 in /usr/local/lib/python3.6/dist-packages (from opencv-python==4.2.0.32) (1.18.4)\n",
            "\u001b[31mERROR: albumentations 0.1.12 has requirement imgaug<0.2.7,>=0.2.5, but you'll have imgaug 0.2.9 which is incompatible.\u001b[0m\n",
            "Installing collected packages: opencv-python\n",
            "  Found existing installation: opencv-python 4.1.2.30\n",
            "    Uninstalling opencv-python-4.1.2.30:\n",
            "      Successfully uninstalled opencv-python-4.1.2.30\n",
            "Successfully installed opencv-python-4.2.0.32\n",
            "Collecting vispy==0.6.4\n",
            "\u001b[?25l  Downloading https://files.pythonhosted.org/packages/cf/29/899797a9af4446d3ddf594f49b0fbd43076eafa1552e24690cfd99b0e2ff/vispy-0.6.4-cp36-cp36m-manylinux2010_x86_64.whl (2.3MB)\n",
            "\u001b[K     |████████████████████████████████| 2.3MB 2.5MB/s \n",
            "\u001b[?25hCollecting freetype-py\n",
            "\u001b[?25l  Downloading https://files.pythonhosted.org/packages/f2/00/6f332e63b33d24dc3761916e6d51402a7a82dd43c6ca8a96e24dda32c6b5/freetype_py-2.1.0.post1-py2.py3-none-manylinux1_x86_64.whl (883kB)\n",
            "\u001b[K     |████████████████████████████████| 890kB 21.8MB/s \n",
            "\u001b[?25hRequirement already satisfied: numpy in /usr/local/lib/python3.6/dist-packages (from vispy==0.6.4) (1.18.4)\n",
            "Installing collected packages: freetype-py, vispy\n",
            "Successfully installed freetype-py-2.1.0.post1 vispy-0.6.4\n",
            "Collecting moviepy==1.0.2\n",
            "\u001b[?25l  Downloading https://files.pythonhosted.org/packages/71/64/e7f0876716d5c35612bf8e9e49299d0f491285f10f36cbb481556ab0062b/moviepy-1.0.2.tar.gz (7.8MB)\n",
            "\u001b[K     |████████████████████████████████| 7.9MB 2.4MB/s \n",
            "\u001b[?25hRequirement already satisfied: decorator<5.0,>=4.0.2 in /usr/local/lib/python3.6/dist-packages (from moviepy==1.0.2) (4.4.2)\n",
            "Requirement already satisfied: tqdm<5.0,>=4.11.2 in /usr/local/lib/python3.6/dist-packages (from moviepy==1.0.2) (4.41.1)\n",
            "Requirement already satisfied: requests<3.0,>=2.8.1 in /usr/local/lib/python3.6/dist-packages (from moviepy==1.0.2) (2.23.0)\n",
            "Collecting proglog<=1.0.0\n",
            "  Downloading https://files.pythonhosted.org/packages/fe/ab/4cb19b578e1364c0b2d6efd6521a8b4b4e5c4ae6528041d31a2a951dd991/proglog-0.1.9.tar.gz\n",
            "Requirement already satisfied: numpy>=1.17.3 in /usr/local/lib/python3.6/dist-packages (from moviepy==1.0.2) (1.18.4)\n",
            "Collecting imageio<3.0,>=2.5\n",
            "\u001b[?25l  Downloading https://files.pythonhosted.org/packages/4c/2b/9dd19644f871b10f7e32eb2dbd6b45149c350b4d5f2893e091b882e03ab7/imageio-2.8.0-py3-none-any.whl (3.3MB)\n",
            "\u001b[K     |████████████████████████████████| 3.3MB 53.6MB/s \n",
            "\u001b[?25hCollecting imageio_ffmpeg>=0.2.0\n",
            "\u001b[?25l  Downloading https://files.pythonhosted.org/packages/df/c8/04c6b4a001b8ae7326fb83d6665af1ee58d6cc1acb421f8ea40d2678fe3c/imageio_ffmpeg-0.4.2-py3-none-manylinux2010_x86_64.whl (26.9MB)\n",
            "\u001b[K     |████████████████████████████████| 26.9MB 105kB/s \n",
            "\u001b[?25hRequirement already satisfied: urllib3!=1.25.0,!=1.25.1,<1.26,>=1.21.1 in /usr/local/lib/python3.6/dist-packages (from requests<3.0,>=2.8.1->moviepy==1.0.2) (1.24.3)\n",
            "Requirement already satisfied: idna<3,>=2.5 in /usr/local/lib/python3.6/dist-packages (from requests<3.0,>=2.8.1->moviepy==1.0.2) (2.9)\n",
            "Requirement already satisfied: chardet<4,>=3.0.2 in /usr/local/lib/python3.6/dist-packages (from requests<3.0,>=2.8.1->moviepy==1.0.2) (3.0.4)\n",
            "Requirement already satisfied: certifi>=2017.4.17 in /usr/local/lib/python3.6/dist-packages (from requests<3.0,>=2.8.1->moviepy==1.0.2) (2020.4.5.1)\n",
            "Requirement already satisfied: pillow in /usr/local/lib/python3.6/dist-packages (from imageio<3.0,>=2.5->moviepy==1.0.2) (7.0.0)\n",
            "Building wheels for collected packages: moviepy, proglog\n",
            "  Building wheel for moviepy (setup.py) ... \u001b[?25l\u001b[?25hdone\n",
            "  Created wheel for moviepy: filename=moviepy-1.0.2-cp36-none-any.whl size=110730 sha256=b54c2b9d7588f8d39f891b1f6855f7a8eff8536390180598d7a20703ca5a4159\n",
            "  Stored in directory: /root/.cache/pip/wheels/20/49/a9/770a9a22e7a020d796ab3784d2dc4839e38450a1ac87e6106f\n",
            "  Building wheel for proglog (setup.py) ... \u001b[?25l\u001b[?25hdone\n",
            "  Created wheel for proglog: filename=proglog-0.1.9-cp36-none-any.whl size=6149 sha256=911c585f8c510e99715b82aba0bad6723343993e45ff3c2e41337e97b17aca95\n",
            "  Stored in directory: /root/.cache/pip/wheels/65/56/60/1d0306a8d90b188af393c1812ddb502a8821b70917f82dcc00\n",
            "Successfully built moviepy proglog\n",
            "\u001b[31mERROR: albumentations 0.1.12 has requirement imgaug<0.2.7,>=0.2.5, but you'll have imgaug 0.2.9 which is incompatible.\u001b[0m\n",
            "Installing collected packages: proglog, imageio, imageio-ffmpeg, moviepy\n",
            "  Found existing installation: imageio 2.4.1\n",
            "    Uninstalling imageio-2.4.1:\n",
            "      Successfully uninstalled imageio-2.4.1\n",
            "  Found existing installation: moviepy 0.2.3.5\n",
            "    Uninstalling moviepy-0.2.3.5:\n",
            "      Successfully uninstalled moviepy-0.2.3.5\n",
            "Successfully installed imageio-2.8.0 imageio-ffmpeg-0.4.2 moviepy-1.0.2 proglog-0.1.9\n",
            "Collecting transforms3d==0.3.1\n",
            "\u001b[?25l  Downloading https://files.pythonhosted.org/packages/b5/f7/e85809168a548a854d7c1331560c27b4f5381698d29c12e57759192b2bc1/transforms3d-0.3.1.tar.gz (62kB)\n",
            "\u001b[K     |████████████████████████████████| 71kB 2.1MB/s \n",
            "\u001b[?25hBuilding wheels for collected packages: transforms3d\n",
            "  Building wheel for transforms3d (setup.py) ... \u001b[?25l\u001b[?25hdone\n",
            "  Created wheel for transforms3d: filename=transforms3d-0.3.1-cp36-none-any.whl size=59375 sha256=d2e666743c4bb1ec0412683cb995a7778fbd55acaf9e19b54593635cd671278c\n",
            "  Stored in directory: /root/.cache/pip/wheels/3d/3c/84/28d36677f3c760c048bd02b5a547ea0c4027770cc9cdb9af1e\n",
            "Successfully built transforms3d\n",
            "Installing collected packages: transforms3d\n",
            "Successfully installed transforms3d-0.3.1\n",
            "Collecting networkx==2.3\n",
            "\u001b[?25l  Downloading https://files.pythonhosted.org/packages/85/08/f20aef11d4c343b557e5de6b9548761811eb16e438cee3d32b1c66c8566b/networkx-2.3.zip (1.7MB)\n",
            "\u001b[K     |████████████████████████████████| 1.8MB 2.7MB/s \n",
            "\u001b[?25hRequirement already satisfied: decorator>=4.3.0 in /usr/local/lib/python3.6/dist-packages (from networkx==2.3) (4.4.2)\n",
            "Building wheels for collected packages: networkx\n",
            "  Building wheel for networkx (setup.py) ... \u001b[?25l\u001b[?25hdone\n",
            "  Created wheel for networkx: filename=networkx-2.3-py2.py3-none-any.whl size=1556408 sha256=79971edb42792615a190f8c3c0bc3052cb7f0f6d1e7be070ebd0657b7bc789d2\n",
            "  Stored in directory: /root/.cache/pip/wheels/de/63/64/3699be2a9d0ccdb37c7f16329acf3863fd76eda58c39c737af\n",
            "Successfully built networkx\n",
            "\u001b[31mERROR: albumentations 0.1.12 has requirement imgaug<0.2.7,>=0.2.5, but you'll have imgaug 0.2.9 which is incompatible.\u001b[0m\n",
            "Installing collected packages: networkx\n",
            "  Found existing installation: networkx 2.4\n",
            "    Uninstalling networkx-2.4:\n",
            "      Successfully uninstalled networkx-2.4\n",
            "Successfully installed networkx-2.3\n"
          ],
          "name": "stdout"
        }
      ]
    },
    {
      "cell_type": "markdown",
      "metadata": {
        "id": "c-g7AeLMvY0R",
        "colab_type": "text"
      },
      "source": [
        "- **Download script and pretrained model**\n"
      ]
    },
    {
      "cell_type": "code",
      "metadata": {
        "id": "cOFIBkWrBlNM",
        "colab_type": "code",
        "outputId": "333c7d3d-5a88-48b7-c82e-1c7a55495904",
        "colab": {
          "base_uri": "https://localhost:8080/",
          "height": 35
        }
      },
      "source": [
        "cd /content/"
      ],
      "execution_count": 2,
      "outputs": [
        {
          "output_type": "stream",
          "text": [
            "/content\n"
          ],
          "name": "stdout"
        }
      ]
    },
    {
      "cell_type": "code",
      "metadata": {
        "id": "n-Kl6fo1oows",
        "colab_type": "code",
        "outputId": "881d6b9b-f351-41db-d529-27b70c65868f",
        "colab": {
          "base_uri": "https://localhost:8080/",
          "height": 231
        }
      },
      "source": [
        "#!gdown https://drive.google.com/uc?id=1Jmiq1-hSIsHiq_GCcmiNXtrs_T62AY_z\n",
        "!wget 'https://norod78.s3-eu-west-1.amazonaws.com/models/3d-photo-inpainting-master+(2).zip'\n",
        "#!mv \"/content/3d-photo-inpainting-master (2).zip\" \"/content/3d-photo-inpainting-master.zip\"\n",
        "!mv '/content/3d-photo-inpainting-master+(2).zip' '/content/3d-photo-inpainting-master.zip'"
      ],
      "execution_count": 3,
      "outputs": [
        {
          "output_type": "stream",
          "text": [
            "--2020-05-20 03:54:33--  https://norod78.s3-eu-west-1.amazonaws.com/models/3d-photo-inpainting-master+(2).zip\n",
            "Resolving norod78.s3-eu-west-1.amazonaws.com (norod78.s3-eu-west-1.amazonaws.com)... 52.218.84.211\n",
            "Connecting to norod78.s3-eu-west-1.amazonaws.com (norod78.s3-eu-west-1.amazonaws.com)|52.218.84.211|:443... connected.\n",
            "HTTP request sent, awaiting response... 200 OK\n",
            "Length: 464001543 (443M) [application/zip]\n",
            "Saving to: ‘3d-photo-inpainting-master+(2).zip’\n",
            "\n",
            "3d-photo-inpainting 100%[===================>] 442.51M  11.8MB/s    in 40s     \n",
            "\n",
            "2020-05-20 03:55:15 (11.1 MB/s) - ‘3d-photo-inpainting-master+(2).zip’ saved [464001543/464001543]\n",
            "\n"
          ],
          "name": "stdout"
        }
      ]
    },
    {
      "cell_type": "code",
      "metadata": {
        "id": "seX7gKalBPiH",
        "colab_type": "code",
        "outputId": "ced853f7-6ae0-47a0-e28e-9293a994e504",
        "colab": {
          "base_uri": "https://localhost:8080/",
          "height": 476
        }
      },
      "source": [
        "!unzip 3d-photo-inpainting-master.zip"
      ],
      "execution_count": 4,
      "outputs": [
        {
          "output_type": "stream",
          "text": [
            "Archive:  3d-photo-inpainting-master.zip\n",
            "   creating: 3d-photo-inpainting-master/\n",
            "  inflating: 3d-photo-inpainting-master/LICENSE  \n",
            "   creating: 3d-photo-inpainting-master/MiDaS/\n",
            "  inflating: 3d-photo-inpainting-master/MiDaS/MiDaS_utils.py  \n",
            "  inflating: 3d-photo-inpainting-master/MiDaS/monodepth_net.py  \n",
            "  inflating: 3d-photo-inpainting-master/MiDaS/run.py  \n",
            "  inflating: 3d-photo-inpainting-master/MiDaS/model.pt  \n",
            "   creating: 3d-photo-inpainting-master/depth/\n",
            "  inflating: 3d-photo-inpainting-master/depth/moon.npy  \n",
            "   creating: 3d-photo-inpainting-master/image/\n",
            "  inflating: 3d-photo-inpainting-master/image/moon.jpg  \n",
            "  inflating: 3d-photo-inpainting-master/mesh_tools.py  \n",
            "  inflating: 3d-photo-inpainting-master/networks.py  \n",
            "   creating: 3d-photo-inpainting-master/misc/\n",
            "  inflating: 3d-photo-inpainting-master/misc/moon_40.gif  \n",
            "  inflating: 3d-photo-inpainting-master/README.md  \n",
            "  inflating: 3d-photo-inpainting-master/main.py  \n",
            "   creating: 3d-photo-inpainting-master/video/\n",
            "   creating: 3d-photo-inpainting-master/checkpoints/\n",
            "  inflating: 3d-photo-inpainting-master/checkpoints/color-model.pth  \n",
            "  inflating: 3d-photo-inpainting-master/checkpoints/depth-model.pth  \n",
            "  inflating: 3d-photo-inpainting-master/checkpoints/edge-model.pth  \n",
            "  inflating: 3d-photo-inpainting-master/utils.py  \n",
            "  inflating: 3d-photo-inpainting-master/mesh.py  \n",
            "  inflating: 3d-photo-inpainting-master/argument.yml  \n"
          ],
          "name": "stdout"
        }
      ]
    },
    {
      "cell_type": "code",
      "metadata": {
        "id": "i5-MWEjfBjYx",
        "colab_type": "code",
        "colab": {}
      },
      "source": [
        "rm 3d-photo-inpainting-master.zip"
      ],
      "execution_count": 0,
      "outputs": []
    },
    {
      "cell_type": "code",
      "metadata": {
        "id": "ur_o4jPCyp5L",
        "colab_type": "code",
        "outputId": "6e4948eb-d05b-4546-9585-b35de14c217c",
        "colab": {
          "base_uri": "https://localhost:8080/",
          "height": 35
        }
      },
      "source": [
        "cd 3d-photo-inpainting-master"
      ],
      "execution_count": 6,
      "outputs": [
        {
          "output_type": "stream",
          "text": [
            "/content/3d-photo-inpainting-master\n"
          ],
          "name": "stdout"
        }
      ]
    },
    {
      "cell_type": "code",
      "metadata": {
        "id": "vmX2ZWus9UrU",
        "colab_type": "code",
        "outputId": "f4c7b102-ad31-40d9-b5f8-f17cf1f37063",
        "colab": {
          "base_uri": "https://localhost:8080/",
          "height": 141
        }
      },
      "source": [
        "!pwd\n",
        "!ls -latr ./checkpoints/"
      ],
      "execution_count": 7,
      "outputs": [
        {
          "output_type": "stream",
          "text": [
            "/content/3d-photo-inpainting-master\n",
            "total 447844\n",
            "-rw-r--r-- 1 root root  45974122 Apr  9 16:55 edge-model.pth\n",
            "-rw-r--r-- 1 root root 206272258 Apr  9 16:55 depth-model.pth\n",
            "-rw-r--r-- 1 root root 206331633 Apr  9 16:55 color-model.pth\n",
            "drwxr-xr-x 2 root root      4096 Apr  9 19:42 .\n",
            "drwxrwxr-x 8 root root      4096 Apr 10 00:19 ..\n"
          ],
          "name": "stdout"
        }
      ]
    },
    {
      "cell_type": "markdown",
      "metadata": {
        "id": "dz0ESEU0nmA0",
        "colab_type": "text"
      },
      "source": [
        "- **Please upload `.jpg` files to `/content/3d-photo-inpainting-master/image/`**\n",
        "\n",
        "  - ![Figure](https://drive.google.com/uc?id=1HyLrIu16RTwP14mfYt4fcgREVs9VlU7R)\n",
        "\n"
      ]
    },
    {
      "cell_type": "markdown",
      "metadata": {
        "id": "IYC4c6r6vjVh",
        "colab_type": "text"
      },
      "source": [
        "- **Execute the 3D Photo Inpainting**\n",
        "  - Note: The 3D photo generation process usually takes about 2-3 minutes or more depending on the available computing resources."
      ]
    },
    {
      "cell_type": "code",
      "metadata": {
        "id": "XLfE-6atlkeA",
        "colab_type": "code",
        "colab": {}
      },
      "source": [
        "%%sh\n",
        "cat <<EOT >> argument.yml\n",
        "depth_edge_model_ckpt: checkpoints/edge-model.pth\n",
        "depth_feat_model_ckpt: checkpoints/depth-model.pth\n",
        "rgb_feat_model_ckpt: checkpoints/color-model.pth\n",
        "MiDaS_model_ckpt: MiDaS/model.pt\n",
        "fps: 60\n",
        "num_frames: 540 #240\n",
        "x_shift_range: -0.03\n",
        "y_shift_range: -0.00\n",
        "z_shift_range: -0.07\n",
        "specific: ''\n",
        "longer_side_len: 960\n",
        "src_folder: image\n",
        "depth_folder: depth\n",
        "mesh_folder: mesh\n",
        "video_folder: video\n",
        "load_ply: False\n",
        "save_ply: False\n",
        "inference_video: True\n",
        "gpu_ids: 0\n",
        "img_format: '.jpg'\n",
        "depth_threshold: 2.4 #1.2 #0.04\n",
        "ext_edge_threshold: 0.002\n",
        "sparse_iter: 5\n",
        "filter_size: [7, 7, 5, 5, 5]\n",
        "sigma_s: 4.0\n",
        "sigma_r: 0.5\n",
        "redundant_number: 12\n",
        "background_thickness: 180 #140 #70\n",
        "context_thickness: 220 #180 # 140\n",
        "background_thickness_2: 70\n",
        "context_thickness_2: 70\n",
        "discount_factor: 1.00\n",
        "log_depth: True\n",
        "largest_size: 1024 #512\n",
        "depth_edge_dilate: 10\n",
        "depth_edge_dilate_2: 5\n",
        "extrapolate_border: True\n",
        "extrapolation_thickness: 100 #80 #60\n",
        "repeat_inpaint_edge: True\n",
        "crop_border: False\n",
        "EOT"
      ],
      "execution_count": 0,
      "outputs": []
    },
    {
      "cell_type": "code",
      "metadata": {
        "id": "zo5uPQuBgw2j",
        "colab_type": "code",
        "outputId": "b3da9e3e-0097-4eba-fa33-b7f2db4db694",
        "colab": {
          "base_uri": "https://localhost:8080/",
          "height": 1000
        }
      },
      "source": [
        "!python main.py --config argument.yml"
      ],
      "execution_count": 9,
      "outputs": [
        {
          "output_type": "stream",
          "text": [
            "\r  0% 0/1 [00:00<?, ?it/s]Current Source ==>  moon\n",
            "initialize\n",
            "device: cpu\n",
            "start processing\n",
            "  processing image/moon.jpg (1/1)\n",
            "torch.Size([1, 3, 384, 384])\n",
            "finished\n",
            "Start Running 3D_Photo ...\n",
            "53.13010235415598\n",
            "Moviepy - Building video video/moon_straight-line.mp4.\n",
            "Moviepy - Writing video video/moon_straight-line.mp4\n",
            "\n",
            "  0% 0/1 [02:53<?, ?it/s]\n",
            "t:   0% 0/541 [00:00<?, ?it/s, now=None]\u001b[A\n",
            "t:   2% 13/541 [00:00<00:04, 129.14it/s, now=None]\u001b[A\n",
            "t:   5% 27/541 [00:00<00:03, 131.33it/s, now=None]\u001b[A\n",
            "t:   8% 42/541 [00:00<00:03, 135.01it/s, now=None]\u001b[A\n",
            "t:  10% 52/541 [00:00<00:07, 63.62it/s, now=None] \u001b[A\n",
            "t:  11% 60/541 [00:00<00:10, 44.98it/s, now=None]\u001b[A\n",
            "t:  12% 66/541 [00:01<00:11, 40.06it/s, now=None]\u001b[A\n",
            "t:  13% 72/541 [00:01<00:14, 33.15it/s, now=None]\u001b[A\n",
            "t:  14% 77/541 [00:01<00:14, 32.30it/s, now=None]\u001b[A\n",
            "t:  15% 81/541 [00:01<00:15, 28.99it/s, now=None]\u001b[A\n",
            "t:  16% 85/541 [00:01<00:16, 27.93it/s, now=None]\u001b[A\n",
            "t:  16% 89/541 [00:02<00:15, 28.99it/s, now=None]\u001b[A\n",
            "t:  17% 93/541 [00:02<00:15, 28.15it/s, now=None]\u001b[A\n",
            "t:  18% 97/541 [00:02<00:15, 27.97it/s, now=None]\u001b[A\n",
            "t:  18% 100/541 [00:02<00:16, 25.94it/s, now=None]\u001b[A\n",
            "t:  19% 103/541 [00:02<00:17, 25.27it/s, now=None]\u001b[A\n",
            "t:  20% 107/541 [00:02<00:17, 25.38it/s, now=None]\u001b[A\n",
            "t:  21% 111/541 [00:02<00:16, 25.67it/s, now=None]\u001b[A\n",
            "t:  21% 115/541 [00:03<00:16, 26.03it/s, now=None]\u001b[A\n",
            "t:  22% 119/541 [00:03<00:16, 25.81it/s, now=None]\u001b[A\n",
            "t:  23% 123/541 [00:03<00:15, 26.13it/s, now=None]\u001b[A\n",
            "t:  23% 127/541 [00:03<00:15, 26.39it/s, now=None]\u001b[A\n",
            "t:  24% 131/541 [00:03<00:15, 26.57it/s, now=None]\u001b[A\n",
            "t:  25% 135/541 [00:03<00:15, 25.88it/s, now=None]\u001b[A\n",
            "t:  26% 139/541 [00:03<00:15, 26.01it/s, now=None]\u001b[A\n",
            "t:  26% 143/541 [00:04<00:15, 26.01it/s, now=None]\u001b[A\n",
            "t:  27% 147/541 [00:04<00:15, 26.00it/s, now=None]\u001b[A\n",
            "t:  28% 151/541 [00:04<00:14, 26.27it/s, now=None]\u001b[A\n",
            "t:  29% 155/541 [00:04<00:14, 26.39it/s, now=None]\u001b[A\n",
            "t:  29% 159/541 [00:04<00:14, 26.32it/s, now=None]\u001b[A\n",
            "t:  30% 163/541 [00:04<00:14, 26.48it/s, now=None]\u001b[A\n",
            "t:  31% 167/541 [00:05<00:14, 25.76it/s, now=None]\u001b[A\n",
            "t:  32% 171/541 [00:05<00:14, 25.97it/s, now=None]\u001b[A\n",
            "t:  32% 175/541 [00:05<00:13, 26.17it/s, now=None]\u001b[A\n",
            "t:  33% 179/541 [00:05<00:13, 26.36it/s, now=None]\u001b[A\n",
            "t:  34% 183/541 [00:05<00:13, 25.87it/s, now=None]\u001b[A\n",
            "t:  35% 187/541 [00:05<00:13, 25.54it/s, now=None]\u001b[A\n",
            "t:  35% 191/541 [00:05<00:13, 25.31it/s, now=None]\u001b[A\n",
            "t:  36% 195/541 [00:06<00:13, 25.39it/s, now=None]\u001b[A\n",
            "t:  37% 199/541 [00:06<00:13, 25.88it/s, now=None]\u001b[A\n",
            "t:  38% 203/541 [00:06<00:13, 25.84it/s, now=None]\u001b[A\n",
            "t:  38% 207/541 [00:06<00:12, 26.41it/s, now=None]\u001b[A\n",
            "t:  39% 211/541 [00:06<00:12, 25.91it/s, now=None]\u001b[A\n",
            "t:  40% 215/541 [00:06<00:12, 26.15it/s, now=None]\u001b[A\n",
            "t:  40% 219/541 [00:07<00:12, 25.84it/s, now=None]\u001b[A\n",
            "t:  41% 223/541 [00:07<00:12, 25.91it/s, now=None]\u001b[A\n",
            "t:  42% 227/541 [00:07<00:12, 25.84it/s, now=None]\u001b[A\n",
            "t:  43% 231/541 [00:07<00:11, 26.11it/s, now=None]\u001b[A\n",
            "t:  43% 235/541 [00:07<00:11, 26.08it/s, now=None]\u001b[A\n",
            "t:  44% 239/541 [00:07<00:11, 25.95it/s, now=None]\u001b[A\n",
            "t:  45% 243/541 [00:07<00:11, 26.03it/s, now=None]\u001b[A\n",
            "t:  46% 247/541 [00:08<00:11, 25.47it/s, now=None]\u001b[A\n",
            "t:  46% 251/541 [00:08<00:11, 25.63it/s, now=None]\u001b[A\n",
            "t:  47% 255/541 [00:08<00:10, 26.36it/s, now=None]\u001b[A\n",
            "t:  48% 259/541 [00:08<00:10, 26.50it/s, now=None]\u001b[A\n",
            "t:  49% 263/541 [00:08<00:10, 26.53it/s, now=None]\u001b[A\n",
            "t:  49% 267/541 [00:08<00:10, 26.60it/s, now=None]\u001b[A\n",
            "t:  50% 271/541 [00:09<00:10, 25.65it/s, now=None]\u001b[A\n",
            "t:  51% 275/541 [00:09<00:10, 25.91it/s, now=None]\u001b[A\n",
            "t:  52% 279/541 [00:09<00:09, 26.26it/s, now=None]\u001b[A\n",
            "t:  52% 282/541 [00:09<00:09, 26.67it/s, now=None]\u001b[A\n",
            "t:  53% 286/541 [00:09<00:08, 29.48it/s, now=None]\u001b[A\n",
            "t:  54% 290/541 [00:09<00:08, 28.11it/s, now=None]\u001b[A\n",
            "t:  54% 293/541 [00:09<00:09, 26.29it/s, now=None]\u001b[A\n",
            "t:  55% 296/541 [00:10<00:11, 21.73it/s, now=None]\u001b[A\n",
            "t:  55% 300/541 [00:10<00:10, 22.93it/s, now=None]\u001b[A\n",
            "t:  56% 305/541 [00:10<00:09, 25.00it/s, now=None]\u001b[A\n",
            "t:  57% 309/541 [00:10<00:08, 25.96it/s, now=None]\u001b[A\n",
            "t:  58% 313/541 [00:10<00:08, 26.64it/s, now=None]\u001b[A\n",
            "t:  59% 317/541 [00:10<00:08, 26.63it/s, now=None]\u001b[A\n",
            "t:  59% 321/541 [00:10<00:08, 27.20it/s, now=None]\u001b[A\n",
            "t:  60% 325/541 [00:11<00:07, 27.23it/s, now=None]\u001b[A\n",
            "t:  61% 329/541 [00:11<00:07, 26.66it/s, now=None]\u001b[A\n",
            "t:  62% 333/541 [00:11<00:07, 26.67it/s, now=None]\u001b[A\n",
            "t:  62% 337/541 [00:11<00:07, 26.73it/s, now=None]\u001b[A\n",
            "t:  63% 341/541 [00:11<00:07, 26.66it/s, now=None]\u001b[A\n",
            "t:  64% 345/541 [00:11<00:07, 26.16it/s, now=None]\u001b[A\n",
            "t:  65% 349/541 [00:11<00:07, 26.16it/s, now=None]\u001b[A\n",
            "t:  65% 353/541 [00:12<00:07, 26.15it/s, now=None]\u001b[A\n",
            "t:  66% 357/541 [00:12<00:07, 26.19it/s, now=None]\u001b[A\n",
            "t:  67% 361/541 [00:12<00:06, 26.43it/s, now=None]\u001b[A\n",
            "t:  67% 365/541 [00:12<00:06, 26.48it/s, now=None]\u001b[A\n",
            "t:  68% 369/541 [00:12<00:06, 26.60it/s, now=None]\u001b[A\n",
            "t:  69% 373/541 [00:12<00:06, 26.22it/s, now=None]\u001b[A\n",
            "t:  70% 377/541 [00:13<00:06, 26.46it/s, now=None]\u001b[A\n",
            "t:  70% 381/541 [00:13<00:06, 26.03it/s, now=None]\u001b[A\n",
            "t:  71% 385/541 [00:13<00:05, 26.40it/s, now=None]\u001b[A\n",
            "t:  72% 389/541 [00:13<00:05, 26.49it/s, now=None]\u001b[A\n",
            "t:  73% 393/541 [00:13<00:05, 26.65it/s, now=None]\u001b[A\n",
            "t:  73% 397/541 [00:13<00:05, 26.18it/s, now=None]\u001b[A\n",
            "t:  74% 401/541 [00:13<00:05, 26.47it/s, now=None]\u001b[A\n",
            "t:  75% 405/541 [00:14<00:05, 26.17it/s, now=None]\u001b[A\n",
            "t:  76% 409/541 [00:14<00:05, 25.88it/s, now=None]\u001b[A\n",
            "t:  76% 413/541 [00:14<00:04, 25.95it/s, now=None]\u001b[A\n",
            "t:  77% 417/541 [00:14<00:04, 26.05it/s, now=None]\u001b[A\n",
            "t:  78% 420/541 [00:14<00:04, 26.18it/s, now=None]\u001b[A\n",
            "t:  78% 423/541 [00:14<00:04, 26.97it/s, now=None]\u001b[A\n",
            "t:  79% 426/541 [00:14<00:04, 27.73it/s, now=None]\u001b[A\n",
            "t:  79% 429/541 [00:15<00:04, 25.82it/s, now=None]\u001b[A\n",
            "t:  80% 433/541 [00:15<00:04, 25.53it/s, now=None]\u001b[A\n",
            "t:  81% 437/541 [00:15<00:03, 26.17it/s, now=None]\u001b[A\n",
            "t:  82% 441/541 [00:15<00:03, 26.32it/s, now=None]\u001b[A\n",
            "t:  82% 445/541 [00:15<00:03, 26.48it/s, now=None]\u001b[A\n",
            "t:  83% 449/541 [00:15<00:03, 26.88it/s, now=None]\u001b[A\n",
            "t:  84% 453/541 [00:15<00:03, 26.41it/s, now=None]\u001b[A\n",
            "t:  84% 457/541 [00:16<00:03, 25.67it/s, now=None]\u001b[A\n",
            "t:  85% 461/541 [00:16<00:03, 25.38it/s, now=None]\u001b[A\n",
            "t:  86% 465/541 [00:16<00:02, 25.41it/s, now=None]\u001b[A\n",
            "t:  87% 469/541 [00:16<00:02, 25.60it/s, now=None]\u001b[A\n",
            "t:  87% 473/541 [00:16<00:02, 25.58it/s, now=None]\u001b[A\n",
            "t:  88% 477/541 [00:16<00:02, 25.56it/s, now=None]\u001b[A\n",
            "t:  89% 481/541 [00:17<00:02, 25.64it/s, now=None]\u001b[A\n",
            "t:  90% 485/541 [00:17<00:02, 25.41it/s, now=None]\u001b[A\n",
            "t:  90% 489/541 [00:17<00:02, 25.32it/s, now=None]\u001b[A\n",
            "t:  91% 493/541 [00:17<00:01, 25.42it/s, now=None]\u001b[A\n",
            "t:  92% 497/541 [00:17<00:01, 25.19it/s, now=None]\u001b[A\n",
            "t:  93% 501/541 [00:17<00:01, 25.28it/s, now=None]\u001b[A\n",
            "t:  93% 505/541 [00:17<00:01, 25.11it/s, now=None]\u001b[A\n",
            "t:  94% 509/541 [00:18<00:01, 25.21it/s, now=None]\u001b[A\n",
            "t:  95% 513/541 [00:18<00:01, 25.01it/s, now=None]\u001b[A\n",
            "t:  96% 517/541 [00:18<00:00, 25.20it/s, now=None]\u001b[A\n",
            "t:  96% 521/541 [00:18<00:00, 25.39it/s, now=None]\u001b[A\n",
            "t:  97% 525/541 [00:18<00:00, 25.32it/s, now=None]\u001b[A\n",
            "t:  98% 529/541 [00:18<00:00, 24.96it/s, now=None]\u001b[A\n",
            "t:  99% 533/541 [00:19<00:00, 25.06it/s, now=None]\u001b[A\n",
            "t:  99% 537/541 [00:19<00:00, 24.73it/s, now=None]\u001b[A\n",
            "t: 100% 541/541 [00:19<00:00, 24.92it/s, now=None]\u001b[A\n",
            "Moviepy - Done !\n",
            "Moviepy - video ready video/moon_straight-line.mp4\n",
            "Moviepy - Building video video/moon_swing.mp4.\n",
            "Moviepy - Writing video video/moon_swing.mp4\n",
            "\n",
            "  0% 0/1 [03:28<?, ?it/s]\n",
            "t:   0% 0/541 [00:00<?, ?it/s, now=None]\u001b[A\n",
            "t:   0% 2/541 [00:00<00:29, 18.02it/s, now=None]\u001b[A\n",
            "t:   1% 3/541 [00:00<00:39, 13.58it/s, now=None]\u001b[A\n",
            "t:   3% 17/541 [00:00<00:28, 18.59it/s, now=None]\u001b[A\n",
            "t:   6% 32/541 [00:00<00:20, 25.14it/s, now=None]\u001b[A\n",
            "t:   9% 46/541 [00:00<00:14, 33.24it/s, now=None]\u001b[A\n",
            "t:  10% 56/541 [00:01<00:16, 28.84it/s, now=None]\u001b[A\n",
            "t:  12% 64/541 [00:01<00:17, 27.06it/s, now=None]\u001b[A\n",
            "t:  13% 70/541 [00:01<00:16, 28.57it/s, now=None]\u001b[A\n",
            "t:  14% 75/541 [00:01<00:17, 26.87it/s, now=None]\u001b[A\n",
            "t:  15% 80/541 [00:01<00:18, 25.21it/s, now=None]\u001b[A\n",
            "t:  16% 84/541 [00:02<00:18, 25.32it/s, now=None]\u001b[A\n",
            "t:  16% 88/541 [00:02<00:18, 24.91it/s, now=None]\u001b[A\n",
            "t:  17% 92/541 [00:02<00:18, 24.86it/s, now=None]\u001b[A\n",
            "t:  18% 96/541 [00:02<00:17, 25.00it/s, now=None]\u001b[A\n",
            "t:  18% 99/541 [00:02<00:17, 25.56it/s, now=None]\u001b[A\n",
            "t:  19% 102/541 [00:02<00:16, 26.47it/s, now=None]\u001b[A\n",
            "t:  19% 105/541 [00:02<00:17, 24.92it/s, now=None]\u001b[A\n",
            "t:  20% 108/541 [00:03<00:18, 23.95it/s, now=None]\u001b[A\n",
            "t:  21% 112/541 [00:03<00:18, 23.66it/s, now=None]\u001b[A\n",
            "t:  21% 116/541 [00:03<00:17, 23.86it/s, now=None]\u001b[A\n",
            "t:  22% 120/541 [00:03<00:17, 24.26it/s, now=None]\u001b[A\n",
            "t:  23% 123/541 [00:03<00:16, 25.09it/s, now=None]\u001b[A\n",
            "t:  23% 126/541 [00:03<00:16, 25.49it/s, now=None]\u001b[A\n",
            "t:  24% 129/541 [00:03<00:17, 23.39it/s, now=None]\u001b[A\n",
            "t:  24% 132/541 [00:04<00:17, 22.76it/s, now=None]\u001b[A\n",
            "t:  25% 136/541 [00:04<00:17, 22.80it/s, now=None]\u001b[A\n",
            "t:  26% 140/541 [00:04<00:17, 23.14it/s, now=None]\u001b[A\n",
            "t:  26% 143/541 [00:04<00:16, 24.40it/s, now=None]\u001b[A\n",
            "t:  27% 146/541 [00:04<00:16, 24.43it/s, now=None]\u001b[A\n",
            "t:  28% 149/541 [00:04<00:16, 23.80it/s, now=None]\u001b[A\n",
            "t:  28% 152/541 [00:04<00:17, 22.79it/s, now=None]\u001b[A\n",
            "t:  29% 156/541 [00:05<00:16, 23.10it/s, now=None]\u001b[A\n",
            "t:  30% 160/541 [00:05<00:16, 22.85it/s, now=None]\u001b[A\n",
            "t:  30% 164/541 [00:05<00:16, 23.10it/s, now=None]\u001b[A\n",
            "t:  31% 168/541 [00:05<00:16, 22.86it/s, now=None]\u001b[A\n",
            "t:  32% 172/541 [00:05<00:16, 22.69it/s, now=None]\u001b[A\n",
            "t:  33% 176/541 [00:05<00:15, 22.84it/s, now=None]\u001b[A\n",
            "t:  33% 179/541 [00:06<00:15, 23.80it/s, now=None]\u001b[A\n",
            "t:  34% 182/541 [00:06<00:15, 23.08it/s, now=None]\u001b[A\n",
            "t:  34% 185/541 [00:06<00:15, 23.39it/s, now=None]\u001b[A\n",
            "t:  35% 188/541 [00:06<00:16, 22.01it/s, now=None]\u001b[A\n",
            "t:  35% 192/541 [00:06<00:15, 22.28it/s, now=None]\u001b[A\n",
            "t:  36% 196/541 [00:06<00:15, 22.54it/s, now=None]\u001b[A\n",
            "t:  37% 199/541 [00:06<00:14, 23.84it/s, now=None]\u001b[A\n",
            "t:  37% 202/541 [00:07<00:14, 23.46it/s, now=None]\u001b[A\n",
            "t:  38% 205/541 [00:07<00:14, 22.85it/s, now=None]\u001b[A\n",
            "t:  38% 208/541 [00:07<00:15, 21.87it/s, now=None]\u001b[A\n",
            "t:  39% 212/541 [00:07<00:14, 22.21it/s, now=None]\u001b[A\n",
            "t:  40% 215/541 [00:07<00:14, 23.07it/s, now=None]\u001b[A\n",
            "t:  40% 218/541 [00:07<00:14, 22.96it/s, now=None]\u001b[A\n",
            "t:  41% 221/541 [00:07<00:13, 23.42it/s, now=None]\u001b[A\n",
            "t:  41% 224/541 [00:08<00:13, 22.68it/s, now=None]\u001b[A\n",
            "t:  42% 228/541 [00:08<00:13, 22.80it/s, now=None]\u001b[A\n",
            "t:  43% 231/541 [00:08<00:12, 24.18it/s, now=None]\u001b[A\n",
            "t:  43% 234/541 [00:08<00:13, 22.18it/s, now=None]\u001b[A\n",
            "t:  44% 237/541 [00:08<00:13, 23.34it/s, now=None]\u001b[A\n",
            "t:  44% 240/541 [00:08<00:13, 22.51it/s, now=None]\u001b[A\n",
            "t:  45% 243/541 [00:08<00:12, 23.98it/s, now=None]\u001b[A\n",
            "t:  45% 246/541 [00:09<00:12, 23.17it/s, now=None]\u001b[A\n",
            "t:  46% 249/541 [00:09<00:12, 23.47it/s, now=None]\u001b[A\n",
            "t:  47% 252/541 [00:09<00:12, 22.61it/s, now=None]\u001b[A\n",
            "t:  47% 256/541 [00:09<00:12, 22.38it/s, now=None]\u001b[A\n",
            "t:  48% 260/541 [00:09<00:12, 22.70it/s, now=None]\u001b[A\n",
            "t:  49% 264/541 [00:09<00:12, 22.69it/s, now=None]\u001b[A\n",
            "t:  50% 268/541 [00:09<00:11, 23.29it/s, now=None]\u001b[A\n",
            "t:  50% 272/541 [00:10<00:11, 23.47it/s, now=None]\u001b[A\n",
            "t:  51% 276/541 [00:10<00:11, 23.74it/s, now=None]\u001b[A\n",
            "t:  52% 280/541 [00:10<00:10, 24.02it/s, now=None]\u001b[A\n",
            "t:  52% 284/541 [00:10<00:10, 24.06it/s, now=None]\u001b[A\n",
            "t:  53% 288/541 [00:10<00:10, 24.14it/s, now=None]\u001b[A\n",
            "t:  54% 292/541 [00:10<00:10, 24.40it/s, now=None]\u001b[A\n",
            "t:  55% 295/541 [00:11<00:10, 24.07it/s, now=None]\u001b[A\n",
            "t:  55% 298/541 [00:11<00:09, 24.89it/s, now=None]\u001b[A\n",
            "t:  56% 301/541 [00:11<00:09, 24.48it/s, now=None]\u001b[A\n",
            "t:  56% 305/541 [00:11<00:09, 24.56it/s, now=None]\u001b[A\n",
            "t:  57% 309/541 [00:11<00:09, 24.97it/s, now=None]\u001b[A\n",
            "t:  58% 313/541 [00:11<00:08, 26.33it/s, now=None]\u001b[A\n",
            "t:  58% 316/541 [00:11<00:08, 26.56it/s, now=None]\u001b[A\n",
            "t:  59% 321/541 [00:12<00:07, 29.35it/s, now=None]\u001b[A\n",
            "t:  60% 326/541 [00:12<00:06, 33.28it/s, now=None]\u001b[A\n",
            "t:  61% 330/541 [00:12<00:07, 28.44it/s, now=None]\u001b[A\n",
            "t:  62% 334/541 [00:12<00:07, 29.12it/s, now=None]\u001b[A\n",
            "t:  62% 338/541 [00:12<00:07, 27.13it/s, now=None]\u001b[A\n",
            "t:  63% 341/541 [00:12<00:07, 27.51it/s, now=None]\u001b[A\n",
            "t:  64% 344/541 [00:12<00:07, 25.59it/s, now=None]\u001b[A\n",
            "t:  64% 348/541 [00:13<00:07, 25.23it/s, now=None]\u001b[A\n",
            "t:  65% 352/541 [00:13<00:07, 25.17it/s, now=None]\u001b[A\n",
            "t:  66% 356/541 [00:13<00:07, 24.78it/s, now=None]\u001b[A\n",
            "t:  66% 359/541 [00:13<00:07, 24.59it/s, now=None]\u001b[A\n",
            "t:  67% 362/541 [00:13<00:06, 25.77it/s, now=None]\u001b[A\n",
            "t:  67% 365/541 [00:13<00:07, 24.82it/s, now=None]\u001b[A\n",
            "t:  68% 368/541 [00:13<00:07, 23.25it/s, now=None]\u001b[A\n",
            "t:  69% 372/541 [00:14<00:07, 23.46it/s, now=None]\u001b[A\n",
            "t:  70% 376/541 [00:14<00:06, 23.69it/s, now=None]\u001b[A\n",
            "t:  70% 379/541 [00:14<00:06, 25.28it/s, now=None]\u001b[A\n",
            "t:  71% 382/541 [00:14<00:06, 24.39it/s, now=None]\u001b[A\n",
            "t:  71% 385/541 [00:14<00:06, 23.15it/s, now=None]\u001b[A\n",
            "t:  72% 388/541 [00:14<00:06, 22.22it/s, now=None]\u001b[A\n",
            "t:  72% 392/541 [00:14<00:06, 22.41it/s, now=None]\u001b[A\n",
            "t:  73% 396/541 [00:15<00:06, 22.81it/s, now=None]\u001b[A\n",
            "t:  74% 400/541 [00:15<00:06, 22.96it/s, now=None]\u001b[A\n",
            "t:  75% 404/541 [00:15<00:05, 23.18it/s, now=None]\u001b[A\n",
            "t:  75% 407/541 [00:15<00:05, 22.98it/s, now=None]\u001b[A\n",
            "t:  76% 411/541 [00:15<00:05, 25.59it/s, now=None]\u001b[A\n",
            "t:  77% 414/541 [00:15<00:05, 21.52it/s, now=None]\u001b[A\n",
            "t:  77% 417/541 [00:15<00:05, 22.88it/s, now=None]\u001b[A\n",
            "t:  78% 420/541 [00:16<00:05, 22.37it/s, now=None]\u001b[A\n",
            "t:  78% 424/541 [00:16<00:05, 22.47it/s, now=None]\u001b[A\n",
            "t:  79% 428/541 [00:16<00:04, 22.76it/s, now=None]\u001b[A\n",
            "t:  80% 432/541 [00:16<00:04, 22.61it/s, now=None]\u001b[A\n",
            "t:  81% 436/541 [00:16<00:04, 22.70it/s, now=None]\u001b[A\n",
            "t:  81% 440/541 [00:16<00:04, 22.41it/s, now=None]\u001b[A\n",
            "t:  82% 444/541 [00:17<00:04, 22.75it/s, now=None]\u001b[A\n",
            "t:  83% 448/541 [00:17<00:04, 22.56it/s, now=None]\u001b[A\n",
            "t:  84% 452/541 [00:17<00:03, 22.27it/s, now=None]\u001b[A\n",
            "t:  84% 456/541 [00:17<00:03, 22.72it/s, now=None]\u001b[A\n",
            "t:  85% 459/541 [00:17<00:03, 22.49it/s, now=None]\u001b[A\n",
            "t:  85% 462/541 [00:17<00:03, 22.06it/s, now=None]\u001b[A\n",
            "t:  86% 465/541 [00:18<00:03, 23.85it/s, now=None]\u001b[A\n",
            "t:  87% 468/541 [00:18<00:03, 23.07it/s, now=None]\u001b[A\n",
            "t:  87% 471/541 [00:18<00:02, 23.41it/s, now=None]\u001b[A\n",
            "t:  88% 474/541 [00:18<00:02, 23.18it/s, now=None]\u001b[A\n",
            "t:  88% 477/541 [00:18<00:02, 23.21it/s, now=None]\u001b[A\n",
            "t:  89% 480/541 [00:18<00:02, 22.54it/s, now=None]\u001b[A\n",
            "t:  89% 484/541 [00:18<00:02, 22.91it/s, now=None]\u001b[A\n",
            "t:  90% 488/541 [00:19<00:02, 22.97it/s, now=None]\u001b[A\n",
            "t:  91% 492/541 [00:19<00:02, 23.12it/s, now=None]\u001b[A\n",
            "t:  92% 496/541 [00:19<00:01, 23.22it/s, now=None]\u001b[A\n",
            "t:  92% 500/541 [00:19<00:01, 23.08it/s, now=None]\u001b[A\n",
            "t:  93% 503/541 [00:19<00:01, 23.92it/s, now=None]\u001b[A\n",
            "t:  94% 506/541 [00:19<00:01, 23.87it/s, now=None]\u001b[A\n",
            "t:  94% 509/541 [00:19<00:01, 23.89it/s, now=None]\u001b[A\n",
            "t:  95% 512/541 [00:20<00:01, 23.04it/s, now=None]\u001b[A\n",
            "t:  95% 516/541 [00:20<00:01, 23.01it/s, now=None]\u001b[A\n",
            "t:  96% 520/541 [00:20<00:00, 23.55it/s, now=None]\u001b[A\n",
            "t:  97% 524/541 [00:20<00:00, 22.97it/s, now=None]\u001b[A\n",
            "t:  98% 528/541 [00:20<00:00, 23.10it/s, now=None]\u001b[A\n",
            "t:  98% 532/541 [00:20<00:00, 23.05it/s, now=None]\u001b[A\n",
            "t:  99% 536/541 [00:21<00:00, 23.32it/s, now=None]\u001b[A\n",
            "t: 100% 540/541 [00:21<00:00, 23.91it/s, now=None]\u001b[A\n",
            "Moviepy - Done !\n",
            "Moviepy - video ready video/moon_swing.mp4\n",
            "100% 1/1 [03:50<00:00, 230.96s/it]\n"
          ],
          "name": "stdout"
        }
      ]
    },
    {
      "cell_type": "markdown",
      "metadata": {
        "id": "wPvkMT0msIJB",
        "colab_type": "text"
      },
      "source": [
        "- **The results are stored in the following directories**\n",
        "  - Corresponding depth map estimated by [MiDaS](https://github.com/intel-isl/MiDaS.git) \n",
        "      - E.g. ```depth/moon.npy```\n",
        "  - Inpainted 3D mesh\n",
        "      - E.g. ```mesh/moon.ply```\n",
        "  - Rendered videos with circular motion\n",
        "      - E.g. ```mesh/moon.mp4```\n",
        "    \n",
        "    ![](https://drive.google.com/uc?id=1ovw4cX0R7Bn0WoC0JF42MW0nEx8mBPYG)"
      ]
    },
    {
      "cell_type": "code",
      "metadata": {
        "id": "xlRceMM-kV1I",
        "colab_type": "code",
        "outputId": "dd3e0102-f322-4d19-8058-4e70b699cf08",
        "colab": {
          "base_uri": "https://localhost:8080/",
          "height": 944
        }
      },
      "source": [
        "%matplotlib inline \n",
        "from matplotlib import pyplot as plt\n",
        "from matplotlib.pyplot import imshow\n",
        "from PIL import Image\n",
        "import numpy as np\n",
        "import os\n",
        "\n",
        "%cd /content/3d-photo-inpainting-master/depth\n",
        "\n",
        "files = [i for i in os.listdir(\"./\") if i.endswith(\"npy\")]\n",
        "for file in files:\n",
        "  data = np.load(file)\n",
        "  plt.imshow(data, interpolation='nearest')\n",
        "  plt.savefig(file+str('-fig-depth.jpg'),bbox_inches='tight')\n",
        "  plt.show()  \n",
        "  img = Image.fromarray(255.0*data).convert('RGB')\n",
        "  display(img)\n",
        "  img.save(file+str('-depth.jpg'))\n",
        "  img = Image.fromarray(255.0*(1.0-data)).convert('RGB')\n",
        "  img.save(file+str('-inverse-depth.jpg'))\n",
        "\n",
        "%cd /content/3d-photo-inpainting-master"
      ],
      "execution_count": 10,
      "outputs": [
        {
          "output_type": "stream",
          "text": [
            "/content/3d-photo-inpainting-master/depth\n"
          ],
          "name": "stdout"
        },
        {
          "output_type": "display_data",
          "data": {
            "image/png": "[encoded data removed]",
            "text/plain": [
              "<Figure size 432x288 with 1 Axes>"
            ]
          },
          "metadata": {
            "tags": [],
            "needs_background": "light"
          }
        },
        {
          "output_type": "display_data",
          "data": {
            "image/png": "[encoded data removed]",
            "text/plain": [
              "<PIL.Image.Image image mode=RGB size=640x640 at 0x7FEB49E05BE0>"
            ]
          },
          "metadata": {
            "tags": []
          }
        },
        {
          "output_type": "stream",
          "text": [
            "/content/3d-photo-inpainting-master\n"
          ],
          "name": "stdout"
        }
      ]
    },
    {
      "cell_type": "code",
      "metadata": {
        "id": "xxNwI30jwTZ4",
        "colab_type": "code",
        "outputId": "f3fd1627-1407-4c4e-caa5-89d47754d685",
        "colab": {
          "base_uri": "https://localhost:8080/",
          "height": 70
        }
      },
      "source": [
        "!zip ./depth-maps.zip ./depth/*.jpg"
      ],
      "execution_count": 11,
      "outputs": [
        {
          "output_type": "stream",
          "text": [
            "  adding: depth/moon.npy-depth.jpg (deflated 39%)\n",
            "  adding: depth/moon.npy-fig-depth.jpg (deflated 4%)\n",
            "  adding: depth/moon.npy-inverse-depth.jpg (deflated 39%)\n"
          ],
          "name": "stdout"
        }
      ]
    }
  ]
}